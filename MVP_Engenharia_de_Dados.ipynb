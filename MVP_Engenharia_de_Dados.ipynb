{
  "nbformat": 4,
  "nbformat_minor": 0,
  "metadata": {
    "colab": {
      "provenance": [],
      "authorship_tag": "ABX9TyO06sUbM5eanz/fBJxAVw4b",
      "include_colab_link": true
    },
    "kernelspec": {
      "name": "python3",
      "display_name": "Python 3"
    },
    "language_info": {
      "name": "python"
    }
  },
  "cells": [
    {
      "cell_type": "markdown",
      "metadata": {
        "id": "view-in-github",
        "colab_type": "text"
      },
      "source": [
        "<a href=\"https://colab.research.google.com/github/PedroHudson/PUC_MVP3/blob/main/MVP_Engenharia_de_Dados.ipynb\" target=\"_parent\"><img src=\"https://colab.research.google.com/assets/colab-badge.svg\" alt=\"Open In Colab\"/></a>"
      ]
    },
    {
      "cell_type": "markdown",
      "source": [
        "**MVP - Engenharia de Dados**\n",
        "\n"
      ],
      "metadata": {
        "id": "XTOcAUWBtpAv"
      }
    },
    {
      "cell_type": "markdown",
      "source": [
        "**1. Objetivo:**\n",
        "\n",
        "Esse projeto tem como objetivo construir um Bando de Dados na Nuvem. O desenvolvimento do projeto envolve a busca, coleta, modelagem, carga e análise de dados."
      ],
      "metadata": {
        "id": "9pYqNphauYeV"
      }
    },
    {
      "cell_type": "markdown",
      "source": [
        "2. **Definição do Problema:**\n",
        "\n",
        "Para a elaboração desse projeto será utilizado um dataset com dados de faturamento de um escritório de advocacia de médio porte, cuja sede localiza-se na cidade de São Paulo.\n",
        "O escritório tem 33 anos de história, com forte atuação na área empresarial, reconhecidos pelo mercado jurídico como especialistas nas áreas de processo civil, direito aplicado aos FIDC’s (fundos de investimento em direitos creditórios), negócios empresariais, mercado imobiliário, especialmente loteamentos e negócios fiduciários, além de processo tributário e processo do trabalho.\n",
        "Visando a confidencialidade e proteção dos dados, seguindo as normas e diretrizes da LGPD (Lei Geral de Proteção de Dados Pessoais), todos os dados confidenciais do dataset foram previamente tratados e transformados, para a utilização das informações de modo ético e seguro, garantindo a segurança dos dados e as boas práticas de governança.\n",
        "\n",
        "\n"
      ],
      "metadata": {
        "id": "hl_Lgcl6vqZO"
      }
    }
  ]
}