{
  "nbformat": 4,
  "nbformat_minor": 0,
  "metadata": {
    "colab": {
      "provenance": [],
      "authorship_tag": "ABX9TyNAck+5iEKBn7OK/aP/BuTZ",
      "include_colab_link": true
    },
    "kernelspec": {
      "name": "python3",
      "display_name": "Python 3"
    },
    "language_info": {
      "name": "python"
    }
  },
  "cells": [
    {
      "cell_type": "markdown",
      "metadata": {
        "id": "view-in-github",
        "colab_type": "text"
      },
      "source": [
        "<a href=\"https://colab.research.google.com/github/PedroHudson/PUC_MVP3/blob/main/MVP_Engenharia_de_Dados.ipynb\" target=\"_parent\"><img src=\"https://colab.research.google.com/assets/colab-badge.svg\" alt=\"Open In Colab\"/></a>"
      ]
    },
    {
      "cell_type": "markdown",
      "source": [
        "**MVP - Engenharia de Dados**\n",
        "\n"
      ],
      "metadata": {
        "id": "XTOcAUWBtpAv"
      }
    },
    {
      "cell_type": "markdown",
      "source": [
        "**1. Objetivo:**\n",
        "\n",
        "Esse projeto tem como objetivo construir um Bando de Dados na Nuvem. O escopo e desenvolvimento do projeto envolve a busca, coleta, modelagem, carga e análise de dados."
      ],
      "metadata": {
        "id": "9pYqNphauYeV"
      }
    },
    {
      "cell_type": "markdown",
      "source": [
        "**2. Definição do Problema:**\n",
        "\n",
        "Para a elaboração desse projeto será utilizado um dataset com dados de faturamento de um escritório de advocacia de médio porte, cuja sede localiza-se na cidade de São Paulo.\n",
        "\n",
        "O escritório tem 33 anos de história, com forte atuação na área empresarial, reconhecidos pelo mercado jurídico como especialistas nas áreas de processo civil, direito aplicado aos FIDC’s (fundos de investimento em direitos creditórios), negócios empresariais, mercado imobiliário, especialmente loteamentos e negócios fiduciários, além de processo tributário e processo do trabalho.\n",
        "\n",
        "Visando a confidencialidade e proteção dos dados, seguindo as normas e diretrizes da LGPD (Lei Geral de Proteção de Dados Pessoais), todos os dados confidenciais do dataset foram previamente tratados e transformados, para a utilização das informações de modo ético e seguro, garantindo a segurança dos dados e as boas práticas de governança.\n",
        "\n",
        "Iremos analisar o faturamento da empresa nos últimos 4 anos, demonstraremos o faturamento por ano, por área e por rubrica, visualizaremos também os maiores clientes por faturamento e analisaremos como foi o desempenho do escritório durante e pós pandemia de COVID-19.\n",
        "\n",
        "\n",
        "\n",
        "\n",
        "\n"
      ],
      "metadata": {
        "id": "hl_Lgcl6vqZO"
      }
    },
    {
      "cell_type": "markdown",
      "source": [
        "**3. Importação das Bibliotecas e Configurações.**"
      ],
      "metadata": {
        "id": "d2JNfEGN4Dh-"
      }
    },
    {
      "cell_type": "code",
      "source": [
        "# Importação do Pandas\n",
        "import pandas as pd\n",
        "\n",
        "# Importação do Numpy\n",
        "import numpy as np\n",
        "\n",
        "# Importação do Pyplot\n",
        "import matplotlib.pyplot as plt\n",
        "\n",
        "# Importação de pacotes Matplotlib\n",
        "from matplotlib import cm\n",
        "\n",
        "# Importação do Seaborn\n",
        "import seaborn as sns\n",
        "\n",
        "# Configuração para não exibir Warnings\n",
        "import warnings\n",
        "warnings.filterwarnings('ignore')"
      ],
      "metadata": {
        "id": "vWZaBsDZ5Zzt"
      },
      "execution_count": 16,
      "outputs": []
    },
    {
      "cell_type": "markdown",
      "source": [
        "**4. Importação do Dataset.**"
      ],
      "metadata": {
        "id": "87olfVOg6kVS"
      }
    },
    {
      "cell_type": "code",
      "source": [
        "# Importando dados da url para um dataframe\n",
        "\n",
        "# url a importar\n",
        "url_dados = 'https://github.com/PedroHudson/PUC_MVP3/blob/main/Faturamento.xlsx?raw=true'\n",
        "\n",
        "\n",
        "# carga do dataset através da url\n",
        "dataset = pd.read_excel(url_dados)\n"
      ],
      "metadata": {
        "id": "-evCydhODxyH"
      },
      "execution_count": 19,
      "outputs": []
    },
    {
      "cell_type": "markdown",
      "source": [
        "**5. Análise Exploratória - Primeiras Visualizações e Análises.**"
      ],
      "metadata": {
        "id": "tRh59WXeF1JG"
      }
    },
    {
      "cell_type": "code",
      "source": [
        "# Visualização da quantidade de instâncias e atributos do dataset\n",
        "dataset.shape"
      ],
      "metadata": {
        "colab": {
          "base_uri": "https://localhost:8080/"
        },
        "id": "E2gGE448GBSD",
        "outputId": "32dc7856-d079-4f2a-e140-e383a7dca1dd"
      },
      "execution_count": 20,
      "outputs": [
        {
          "output_type": "execute_result",
          "data": {
            "text/plain": [
              "(10397, 10)"
            ]
          },
          "metadata": {},
          "execution_count": 20
        }
      ]
    }
  ]
}