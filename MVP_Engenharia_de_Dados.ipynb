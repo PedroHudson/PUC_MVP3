{
  "nbformat": 4,
  "nbformat_minor": 0,
  "metadata": {
    "colab": {
      "provenance": [],
      "authorship_tag": "ABX9TyOa1t++XSQOTfZjonRyJB9P",
      "include_colab_link": true
    },
    "kernelspec": {
      "name": "python3",
      "display_name": "Python 3"
    },
    "language_info": {
      "name": "python"
    }
  },
  "cells": [
    {
      "cell_type": "markdown",
      "metadata": {
        "id": "view-in-github",
        "colab_type": "text"
      },
      "source": [
        "<a href=\"https://colab.research.google.com/github/PedroHudson/PUC_MVP3/blob/main/MVP_Engenharia_de_Dados.ipynb\" target=\"_parent\"><img src=\"https://colab.research.google.com/assets/colab-badge.svg\" alt=\"Open In Colab\"/></a>"
      ]
    },
    {
      "cell_type": "markdown",
      "source": [
        "**MVP - Engenharia de Dados**\n",
        "\n"
      ],
      "metadata": {
        "id": "XTOcAUWBtpAv"
      }
    },
    {
      "cell_type": "markdown",
      "source": [
        "**1. Objetivo:**\n",
        "\n",
        "Esse projeto tem como objetivo construir um Bando de Dados na Nuvem. O escopo e desenvolvimento do projeto envolve a busca, coleta, modelagem, carga e análise de dados."
      ],
      "metadata": {
        "id": "9pYqNphauYeV"
      }
    },
    {
      "cell_type": "markdown",
      "source": [
        "**2. Definição do Problema:**\n",
        "\n",
        "Para a elaboração desse projeto será utilizado um dataset com dados de faturamento de um escritório de advocacia de grande porte, cuja sede localiza-se na cidade de São Paulo.\n",
        "\n",
        "O escritório tem 33 anos de história, com forte atuação na área empresarial, reconhecidos pelo mercado jurídico como especialistas nas áreas de processo civil, direito aplicado aos FIDC’s (fundos de investimento em direitos creditórios), negócios empresariais, mercado imobiliário, especialmente loteamentos e negócios fiduciários, além de processo tributário e processo do trabalho.\n",
        "\n",
        "Visando a confidencialidade e proteção dos dados, seguindo as normas e diretrizes da LGPD (Lei Geral de Proteção de Dados Pessoais), todos os dados confidenciais do dataset foram previamente tratados e transformados, para a utilização das informações de modo ético e seguro, garantindo a segurança dos dados e as boas práticas de governança. Portanto, todos os nomes de pessoas físicas e jurídicas que constam no dataset são fictícios.\n",
        "\n",
        "O dataset foi disponibilizado através do ERP próprio da empresa no formato de excel, após essa extração foi realizado o tratamento inicial dos dados conforme mencionado acima, e posteriormente o arquivo foi direcionado para um repositório no Github.\n",
        "\n",
        "Iremos analisar o faturamento da empresa nos últimos 4 anos (apuração até agosto/2023) e demonstraremos:\n",
        "\n",
        "(a) O faturamento no período; (b) O faturamento por ano; (c) O faturamento por área; (d) O faturamento por rubrica; (e) Os 10 maiores clientes por faturamento, e por fim, (f) Analisaremos como foi o desempenho do escritório durante e pós pandemia de COVID-19.\n",
        "\n",
        "\n",
        "\n",
        "\n",
        "\n"
      ],
      "metadata": {
        "id": "hl_Lgcl6vqZO"
      }
    },
    {
      "cell_type": "markdown",
      "source": [
        "**3. Importação das Bibliotecas e Configurações.**"
      ],
      "metadata": {
        "id": "d2JNfEGN4Dh-"
      }
    },
    {
      "cell_type": "code",
      "source": [
        "# Importação do Pandas\n",
        "import pandas as pd\n",
        "\n",
        "# Importação do Numpy\n",
        "import numpy as np\n",
        "\n",
        "# Importação do Pyplot\n",
        "import matplotlib.pyplot as plt\n",
        "\n",
        "# Importação de pacotes Matplotlib\n",
        "from matplotlib import cm\n",
        "\n",
        "# Importação do Seaborn\n",
        "import seaborn as sns\n",
        "\n",
        "# Importação do MissingNo para tratamento de missings\n",
        "import missingno as ms\n",
        "\n",
        "# Configuração para não exibir Warnings\n",
        "import warnings\n",
        "warnings.filterwarnings('ignore')"
      ],
      "metadata": {
        "id": "vWZaBsDZ5Zzt"
      },
      "execution_count": 61,
      "outputs": []
    },
    {
      "cell_type": "markdown",
      "source": [
        "**4. Importação do Dataset.**"
      ],
      "metadata": {
        "id": "87olfVOg6kVS"
      }
    },
    {
      "cell_type": "code",
      "source": [
        "# Importando dados da url para um dataframe\n",
        "\n",
        "# url a importar\n",
        "url_dados = 'https://github.com/PedroHudson/PUC_MVP3/blob/main/Faturamento.xlsx?raw=true'\n",
        "\n",
        "# carga do dataset através da url\n",
        "dataset = pd.read_excel(url_dados)\n"
      ],
      "metadata": {
        "id": "-evCydhODxyH"
      },
      "execution_count": 62,
      "outputs": []
    },
    {
      "cell_type": "markdown",
      "source": [
        "**5. Análise Exploratória - Primeiras Visualizações e Análises.**"
      ],
      "metadata": {
        "id": "tRh59WXeF1JG"
      }
    },
    {
      "cell_type": "code",
      "source": [
        "# Visualização da quantidade de instâncias e atributos do dataset\n",
        "dataset.shape"
      ],
      "metadata": {
        "colab": {
          "base_uri": "https://localhost:8080/"
        },
        "id": "E2gGE448GBSD",
        "outputId": "087dd97e-afe0-4d23-c3cb-21a6301ae0b4"
      },
      "execution_count": 63,
      "outputs": [
        {
          "output_type": "execute_result",
          "data": {
            "text/plain": [
              "(10397, 5)"
            ]
          },
          "metadata": {},
          "execution_count": 63
        }
      ]
    },
    {
      "cell_type": "markdown",
      "source": [
        "*Nessa primeira análise verificamos que o dataset tem 5 atributos e 10397 instâncias.*"
      ],
      "metadata": {
        "id": "7rUxnoEIHzR8"
      }
    },
    {
      "cell_type": "code",
      "source": [
        "# Visualização da quantidade de linhas por coluna\n",
        "dataset.count()"
      ],
      "metadata": {
        "colab": {
          "base_uri": "https://localhost:8080/"
        },
        "id": "LSoFxO1XH3z1",
        "outputId": "126bb909-7b49-4988-99e1-e045bdcbe8bb"
      },
      "execution_count": 64,
      "outputs": [
        {
          "output_type": "execute_result",
          "data": {
            "text/plain": [
              "Data       10397\n",
              "Cliente    10397\n",
              "Valor      10397\n",
              "Rubrica    10397\n",
              "Área       10397\n",
              "dtype: int64"
            ]
          },
          "metadata": {},
          "execution_count": 64
        }
      ]
    },
    {
      "cell_type": "markdown",
      "source": [
        "*Todos os atributos possuem a mesma quantidade de instâncias.*"
      ],
      "metadata": {
        "id": "nK9m4fq2IFFY"
      }
    },
    {
      "cell_type": "code",
      "source": [
        "# Visualização dos tipos de dados\n",
        "dataset.dtypes"
      ],
      "metadata": {
        "colab": {
          "base_uri": "https://localhost:8080/"
        },
        "id": "siLb1wcfILuC",
        "outputId": "88b030dc-b6ac-4e51-c5fd-a2f823f9bc1f"
      },
      "execution_count": 65,
      "outputs": [
        {
          "output_type": "execute_result",
          "data": {
            "text/plain": [
              "Data        object\n",
              "Cliente     object\n",
              "Valor      float64\n",
              "Rubrica     object\n",
              "Área        object\n",
              "dtype: object"
            ]
          },
          "metadata": {},
          "execution_count": 65
        }
      ]
    },
    {
      "cell_type": "markdown",
      "source": [
        "*A visualização dos tipos de dados nos permite verificar que os atributos \"Data\", \"Cliente\", \"Rubrica\" e \"Área\" são do tipo object, já o atributo \"Valor\" é do tipo float64.*"
      ],
      "metadata": {
        "id": "NjqqDSfaJJ6-"
      }
    },
    {
      "cell_type": "code",
      "source": [
        "# Visualização das primeiras linhas do dataframe\n",
        "dataset.head()"
      ],
      "metadata": {
        "colab": {
          "base_uri": "https://localhost:8080/",
          "height": 206
        },
        "id": "7E-35wcFJxz0",
        "outputId": "75c9bcab-7390-41b3-b22a-f7515cd86a9e"
      },
      "execution_count": 66,
      "outputs": [
        {
          "output_type": "execute_result",
          "data": {
            "text/plain": [
              "         Data                             Cliente   Valor  \\\n",
              "0  02/01/2020  Cobra Brasil Fomento Mercantil S.A  969.76   \n",
              "1  02/01/2020  Cobra Brasil Fomento Mercantil S.A  436.39   \n",
              "2  02/01/2020                  Grupo Alves Cintra   71.23   \n",
              "3  02/01/2020                  Grupo Alves Cintra   33.77   \n",
              "4  03/01/2020    Escritório Advogados Associados   500.00   \n",
              "\n",
              "                      Rubrica                    Área  \n",
              "0  Honorários de Sucumbência   Recuperação de Crédito  \n",
              "1         Honorários de Êxito  Recuperação de Crédito  \n",
              "2  Honorários de Sucumbência   Recuperação de Crédito  \n",
              "3  Honorários de Sucumbência        Contencioso Cível  \n",
              "4  Honorários de Sucumbência        Contencioso Cível  "
            ],
            "text/html": [
              "\n",
              "  <div id=\"df-9cd4557b-296d-4155-a4ee-dfa92aa0a3ff\" class=\"colab-df-container\">\n",
              "    <div>\n",
              "<style scoped>\n",
              "    .dataframe tbody tr th:only-of-type {\n",
              "        vertical-align: middle;\n",
              "    }\n",
              "\n",
              "    .dataframe tbody tr th {\n",
              "        vertical-align: top;\n",
              "    }\n",
              "\n",
              "    .dataframe thead th {\n",
              "        text-align: right;\n",
              "    }\n",
              "</style>\n",
              "<table border=\"1\" class=\"dataframe\">\n",
              "  <thead>\n",
              "    <tr style=\"text-align: right;\">\n",
              "      <th></th>\n",
              "      <th>Data</th>\n",
              "      <th>Cliente</th>\n",
              "      <th>Valor</th>\n",
              "      <th>Rubrica</th>\n",
              "      <th>Área</th>\n",
              "    </tr>\n",
              "  </thead>\n",
              "  <tbody>\n",
              "    <tr>\n",
              "      <th>0</th>\n",
              "      <td>02/01/2020</td>\n",
              "      <td>Cobra Brasil Fomento Mercantil S.A</td>\n",
              "      <td>969.76</td>\n",
              "      <td>Honorários de Sucumbência</td>\n",
              "      <td>Recuperação de Crédito</td>\n",
              "    </tr>\n",
              "    <tr>\n",
              "      <th>1</th>\n",
              "      <td>02/01/2020</td>\n",
              "      <td>Cobra Brasil Fomento Mercantil S.A</td>\n",
              "      <td>436.39</td>\n",
              "      <td>Honorários de Êxito</td>\n",
              "      <td>Recuperação de Crédito</td>\n",
              "    </tr>\n",
              "    <tr>\n",
              "      <th>2</th>\n",
              "      <td>02/01/2020</td>\n",
              "      <td>Grupo Alves Cintra</td>\n",
              "      <td>71.23</td>\n",
              "      <td>Honorários de Sucumbência</td>\n",
              "      <td>Recuperação de Crédito</td>\n",
              "    </tr>\n",
              "    <tr>\n",
              "      <th>3</th>\n",
              "      <td>02/01/2020</td>\n",
              "      <td>Grupo Alves Cintra</td>\n",
              "      <td>33.77</td>\n",
              "      <td>Honorários de Sucumbência</td>\n",
              "      <td>Contencioso Cível</td>\n",
              "    </tr>\n",
              "    <tr>\n",
              "      <th>4</th>\n",
              "      <td>03/01/2020</td>\n",
              "      <td>Escritório Advogados Associados</td>\n",
              "      <td>500.00</td>\n",
              "      <td>Honorários de Sucumbência</td>\n",
              "      <td>Contencioso Cível</td>\n",
              "    </tr>\n",
              "  </tbody>\n",
              "</table>\n",
              "</div>\n",
              "    <div class=\"colab-df-buttons\">\n",
              "\n",
              "  <div class=\"colab-df-container\">\n",
              "    <button class=\"colab-df-convert\" onclick=\"convertToInteractive('df-9cd4557b-296d-4155-a4ee-dfa92aa0a3ff')\"\n",
              "            title=\"Convert this dataframe to an interactive table.\"\n",
              "            style=\"display:none;\">\n",
              "\n",
              "  <svg xmlns=\"http://www.w3.org/2000/svg\" height=\"24px\" viewBox=\"0 -960 960 960\">\n",
              "    <path d=\"M120-120v-720h720v720H120Zm60-500h600v-160H180v160Zm220 220h160v-160H400v160Zm0 220h160v-160H400v160ZM180-400h160v-160H180v160Zm440 0h160v-160H620v160ZM180-180h160v-160H180v160Zm440 0h160v-160H620v160Z\"/>\n",
              "  </svg>\n",
              "    </button>\n",
              "\n",
              "  <style>\n",
              "    .colab-df-container {\n",
              "      display:flex;\n",
              "      gap: 12px;\n",
              "    }\n",
              "\n",
              "    .colab-df-convert {\n",
              "      background-color: #E8F0FE;\n",
              "      border: none;\n",
              "      border-radius: 50%;\n",
              "      cursor: pointer;\n",
              "      display: none;\n",
              "      fill: #1967D2;\n",
              "      height: 32px;\n",
              "      padding: 0 0 0 0;\n",
              "      width: 32px;\n",
              "    }\n",
              "\n",
              "    .colab-df-convert:hover {\n",
              "      background-color: #E2EBFA;\n",
              "      box-shadow: 0px 1px 2px rgba(60, 64, 67, 0.3), 0px 1px 3px 1px rgba(60, 64, 67, 0.15);\n",
              "      fill: #174EA6;\n",
              "    }\n",
              "\n",
              "    .colab-df-buttons div {\n",
              "      margin-bottom: 4px;\n",
              "    }\n",
              "\n",
              "    [theme=dark] .colab-df-convert {\n",
              "      background-color: #3B4455;\n",
              "      fill: #D2E3FC;\n",
              "    }\n",
              "\n",
              "    [theme=dark] .colab-df-convert:hover {\n",
              "      background-color: #434B5C;\n",
              "      box-shadow: 0px 1px 3px 1px rgba(0, 0, 0, 0.15);\n",
              "      filter: drop-shadow(0px 1px 2px rgba(0, 0, 0, 0.3));\n",
              "      fill: #FFFFFF;\n",
              "    }\n",
              "  </style>\n",
              "\n",
              "    <script>\n",
              "      const buttonEl =\n",
              "        document.querySelector('#df-9cd4557b-296d-4155-a4ee-dfa92aa0a3ff button.colab-df-convert');\n",
              "      buttonEl.style.display =\n",
              "        google.colab.kernel.accessAllowed ? 'block' : 'none';\n",
              "\n",
              "      async function convertToInteractive(key) {\n",
              "        const element = document.querySelector('#df-9cd4557b-296d-4155-a4ee-dfa92aa0a3ff');\n",
              "        const dataTable =\n",
              "          await google.colab.kernel.invokeFunction('convertToInteractive',\n",
              "                                                    [key], {});\n",
              "        if (!dataTable) return;\n",
              "\n",
              "        const docLinkHtml = 'Like what you see? Visit the ' +\n",
              "          '<a target=\"_blank\" href=https://colab.research.google.com/notebooks/data_table.ipynb>data table notebook</a>'\n",
              "          + ' to learn more about interactive tables.';\n",
              "        element.innerHTML = '';\n",
              "        dataTable['output_type'] = 'display_data';\n",
              "        await google.colab.output.renderOutput(dataTable, element);\n",
              "        const docLink = document.createElement('div');\n",
              "        docLink.innerHTML = docLinkHtml;\n",
              "        element.appendChild(docLink);\n",
              "      }\n",
              "    </script>\n",
              "  </div>\n",
              "\n",
              "\n",
              "<div id=\"df-707dd46c-8ff8-46c4-bcf6-ff954dd49ea7\">\n",
              "  <button class=\"colab-df-quickchart\" onclick=\"quickchart('df-707dd46c-8ff8-46c4-bcf6-ff954dd49ea7')\"\n",
              "            title=\"Suggest charts.\"\n",
              "            style=\"display:none;\">\n",
              "\n",
              "<svg xmlns=\"http://www.w3.org/2000/svg\" height=\"24px\"viewBox=\"0 0 24 24\"\n",
              "     width=\"24px\">\n",
              "    <g>\n",
              "        <path d=\"M19 3H5c-1.1 0-2 .9-2 2v14c0 1.1.9 2 2 2h14c1.1 0 2-.9 2-2V5c0-1.1-.9-2-2-2zM9 17H7v-7h2v7zm4 0h-2V7h2v10zm4 0h-2v-4h2v4z\"/>\n",
              "    </g>\n",
              "</svg>\n",
              "  </button>\n",
              "\n",
              "<style>\n",
              "  .colab-df-quickchart {\n",
              "      --bg-color: #E8F0FE;\n",
              "      --fill-color: #1967D2;\n",
              "      --hover-bg-color: #E2EBFA;\n",
              "      --hover-fill-color: #174EA6;\n",
              "      --disabled-fill-color: #AAA;\n",
              "      --disabled-bg-color: #DDD;\n",
              "  }\n",
              "\n",
              "  [theme=dark] .colab-df-quickchart {\n",
              "      --bg-color: #3B4455;\n",
              "      --fill-color: #D2E3FC;\n",
              "      --hover-bg-color: #434B5C;\n",
              "      --hover-fill-color: #FFFFFF;\n",
              "      --disabled-bg-color: #3B4455;\n",
              "      --disabled-fill-color: #666;\n",
              "  }\n",
              "\n",
              "  .colab-df-quickchart {\n",
              "    background-color: var(--bg-color);\n",
              "    border: none;\n",
              "    border-radius: 50%;\n",
              "    cursor: pointer;\n",
              "    display: none;\n",
              "    fill: var(--fill-color);\n",
              "    height: 32px;\n",
              "    padding: 0;\n",
              "    width: 32px;\n",
              "  }\n",
              "\n",
              "  .colab-df-quickchart:hover {\n",
              "    background-color: var(--hover-bg-color);\n",
              "    box-shadow: 0 1px 2px rgba(60, 64, 67, 0.3), 0 1px 3px 1px rgba(60, 64, 67, 0.15);\n",
              "    fill: var(--button-hover-fill-color);\n",
              "  }\n",
              "\n",
              "  .colab-df-quickchart-complete:disabled,\n",
              "  .colab-df-quickchart-complete:disabled:hover {\n",
              "    background-color: var(--disabled-bg-color);\n",
              "    fill: var(--disabled-fill-color);\n",
              "    box-shadow: none;\n",
              "  }\n",
              "\n",
              "  .colab-df-spinner {\n",
              "    border: 2px solid var(--fill-color);\n",
              "    border-color: transparent;\n",
              "    border-bottom-color: var(--fill-color);\n",
              "    animation:\n",
              "      spin 1s steps(1) infinite;\n",
              "  }\n",
              "\n",
              "  @keyframes spin {\n",
              "    0% {\n",
              "      border-color: transparent;\n",
              "      border-bottom-color: var(--fill-color);\n",
              "      border-left-color: var(--fill-color);\n",
              "    }\n",
              "    20% {\n",
              "      border-color: transparent;\n",
              "      border-left-color: var(--fill-color);\n",
              "      border-top-color: var(--fill-color);\n",
              "    }\n",
              "    30% {\n",
              "      border-color: transparent;\n",
              "      border-left-color: var(--fill-color);\n",
              "      border-top-color: var(--fill-color);\n",
              "      border-right-color: var(--fill-color);\n",
              "    }\n",
              "    40% {\n",
              "      border-color: transparent;\n",
              "      border-right-color: var(--fill-color);\n",
              "      border-top-color: var(--fill-color);\n",
              "    }\n",
              "    60% {\n",
              "      border-color: transparent;\n",
              "      border-right-color: var(--fill-color);\n",
              "    }\n",
              "    80% {\n",
              "      border-color: transparent;\n",
              "      border-right-color: var(--fill-color);\n",
              "      border-bottom-color: var(--fill-color);\n",
              "    }\n",
              "    90% {\n",
              "      border-color: transparent;\n",
              "      border-bottom-color: var(--fill-color);\n",
              "    }\n",
              "  }\n",
              "</style>\n",
              "\n",
              "  <script>\n",
              "    async function quickchart(key) {\n",
              "      const quickchartButtonEl =\n",
              "        document.querySelector('#' + key + ' button');\n",
              "      quickchartButtonEl.disabled = true;  // To prevent multiple clicks.\n",
              "      quickchartButtonEl.classList.add('colab-df-spinner');\n",
              "      try {\n",
              "        const charts = await google.colab.kernel.invokeFunction(\n",
              "            'suggestCharts', [key], {});\n",
              "      } catch (error) {\n",
              "        console.error('Error during call to suggestCharts:', error);\n",
              "      }\n",
              "      quickchartButtonEl.classList.remove('colab-df-spinner');\n",
              "      quickchartButtonEl.classList.add('colab-df-quickchart-complete');\n",
              "    }\n",
              "    (() => {\n",
              "      let quickchartButtonEl =\n",
              "        document.querySelector('#df-707dd46c-8ff8-46c4-bcf6-ff954dd49ea7 button');\n",
              "      quickchartButtonEl.style.display =\n",
              "        google.colab.kernel.accessAllowed ? 'block' : 'none';\n",
              "    })();\n",
              "  </script>\n",
              "</div>\n",
              "    </div>\n",
              "  </div>\n"
            ]
          },
          "metadata": {},
          "execution_count": 66
        }
      ]
    },
    {
      "cell_type": "code",
      "source": [
        "# Visualização das últimas linhas do dataframe\n",
        "dataset.tail()"
      ],
      "metadata": {
        "colab": {
          "base_uri": "https://localhost:8080/",
          "height": 206
        },
        "id": "J6nHlAEDKo59",
        "outputId": "7ee624d5-dd60-4afe-eed7-07fecd9fec71"
      },
      "execution_count": 67,
      "outputs": [
        {
          "output_type": "execute_result",
          "data": {
            "text/plain": [
              "             Data                                Cliente    Valor  \\\n",
              "10392  31/08/2023                    Minas Finanças Ltda  3700.00   \n",
              "10393  31/08/2023                   Auto Mecânica Mister  1998.31   \n",
              "10394  31/08/2023  Jose Norberto Fomento Mercantil Ltda.   101.48   \n",
              "10395  31/08/2023                       Oerca Torres S/A    17.79   \n",
              "10396  31/08/2023                       Oerca Torres S/A   127.64   \n",
              "\n",
              "                          Rubrica                             Área  \n",
              "10392  Honorários de Sucumbência            Recuperação de Crédito  \n",
              "10393                  Fee Mensal                           Gestão  \n",
              "10394         Honorários de Êxito  Recuperação Judicial e Falência  \n",
              "10395         Honorários de Êxito  Recuperação Judicial e Falência  \n",
              "10396         Honorários de Êxito  Recuperação Judicial e Falência  "
            ],
            "text/html": [
              "\n",
              "  <div id=\"df-9b629d67-2dff-4a48-85b6-b7e9c1ac3f69\" class=\"colab-df-container\">\n",
              "    <div>\n",
              "<style scoped>\n",
              "    .dataframe tbody tr th:only-of-type {\n",
              "        vertical-align: middle;\n",
              "    }\n",
              "\n",
              "    .dataframe tbody tr th {\n",
              "        vertical-align: top;\n",
              "    }\n",
              "\n",
              "    .dataframe thead th {\n",
              "        text-align: right;\n",
              "    }\n",
              "</style>\n",
              "<table border=\"1\" class=\"dataframe\">\n",
              "  <thead>\n",
              "    <tr style=\"text-align: right;\">\n",
              "      <th></th>\n",
              "      <th>Data</th>\n",
              "      <th>Cliente</th>\n",
              "      <th>Valor</th>\n",
              "      <th>Rubrica</th>\n",
              "      <th>Área</th>\n",
              "    </tr>\n",
              "  </thead>\n",
              "  <tbody>\n",
              "    <tr>\n",
              "      <th>10392</th>\n",
              "      <td>31/08/2023</td>\n",
              "      <td>Minas Finanças Ltda</td>\n",
              "      <td>3700.00</td>\n",
              "      <td>Honorários de Sucumbência</td>\n",
              "      <td>Recuperação de Crédito</td>\n",
              "    </tr>\n",
              "    <tr>\n",
              "      <th>10393</th>\n",
              "      <td>31/08/2023</td>\n",
              "      <td>Auto Mecânica Mister</td>\n",
              "      <td>1998.31</td>\n",
              "      <td>Fee Mensal</td>\n",
              "      <td>Gestão</td>\n",
              "    </tr>\n",
              "    <tr>\n",
              "      <th>10394</th>\n",
              "      <td>31/08/2023</td>\n",
              "      <td>Jose Norberto Fomento Mercantil Ltda.</td>\n",
              "      <td>101.48</td>\n",
              "      <td>Honorários de Êxito</td>\n",
              "      <td>Recuperação Judicial e Falência</td>\n",
              "    </tr>\n",
              "    <tr>\n",
              "      <th>10395</th>\n",
              "      <td>31/08/2023</td>\n",
              "      <td>Oerca Torres S/A</td>\n",
              "      <td>17.79</td>\n",
              "      <td>Honorários de Êxito</td>\n",
              "      <td>Recuperação Judicial e Falência</td>\n",
              "    </tr>\n",
              "    <tr>\n",
              "      <th>10396</th>\n",
              "      <td>31/08/2023</td>\n",
              "      <td>Oerca Torres S/A</td>\n",
              "      <td>127.64</td>\n",
              "      <td>Honorários de Êxito</td>\n",
              "      <td>Recuperação Judicial e Falência</td>\n",
              "    </tr>\n",
              "  </tbody>\n",
              "</table>\n",
              "</div>\n",
              "    <div class=\"colab-df-buttons\">\n",
              "\n",
              "  <div class=\"colab-df-container\">\n",
              "    <button class=\"colab-df-convert\" onclick=\"convertToInteractive('df-9b629d67-2dff-4a48-85b6-b7e9c1ac3f69')\"\n",
              "            title=\"Convert this dataframe to an interactive table.\"\n",
              "            style=\"display:none;\">\n",
              "\n",
              "  <svg xmlns=\"http://www.w3.org/2000/svg\" height=\"24px\" viewBox=\"0 -960 960 960\">\n",
              "    <path d=\"M120-120v-720h720v720H120Zm60-500h600v-160H180v160Zm220 220h160v-160H400v160Zm0 220h160v-160H400v160ZM180-400h160v-160H180v160Zm440 0h160v-160H620v160ZM180-180h160v-160H180v160Zm440 0h160v-160H620v160Z\"/>\n",
              "  </svg>\n",
              "    </button>\n",
              "\n",
              "  <style>\n",
              "    .colab-df-container {\n",
              "      display:flex;\n",
              "      gap: 12px;\n",
              "    }\n",
              "\n",
              "    .colab-df-convert {\n",
              "      background-color: #E8F0FE;\n",
              "      border: none;\n",
              "      border-radius: 50%;\n",
              "      cursor: pointer;\n",
              "      display: none;\n",
              "      fill: #1967D2;\n",
              "      height: 32px;\n",
              "      padding: 0 0 0 0;\n",
              "      width: 32px;\n",
              "    }\n",
              "\n",
              "    .colab-df-convert:hover {\n",
              "      background-color: #E2EBFA;\n",
              "      box-shadow: 0px 1px 2px rgba(60, 64, 67, 0.3), 0px 1px 3px 1px rgba(60, 64, 67, 0.15);\n",
              "      fill: #174EA6;\n",
              "    }\n",
              "\n",
              "    .colab-df-buttons div {\n",
              "      margin-bottom: 4px;\n",
              "    }\n",
              "\n",
              "    [theme=dark] .colab-df-convert {\n",
              "      background-color: #3B4455;\n",
              "      fill: #D2E3FC;\n",
              "    }\n",
              "\n",
              "    [theme=dark] .colab-df-convert:hover {\n",
              "      background-color: #434B5C;\n",
              "      box-shadow: 0px 1px 3px 1px rgba(0, 0, 0, 0.15);\n",
              "      filter: drop-shadow(0px 1px 2px rgba(0, 0, 0, 0.3));\n",
              "      fill: #FFFFFF;\n",
              "    }\n",
              "  </style>\n",
              "\n",
              "    <script>\n",
              "      const buttonEl =\n",
              "        document.querySelector('#df-9b629d67-2dff-4a48-85b6-b7e9c1ac3f69 button.colab-df-convert');\n",
              "      buttonEl.style.display =\n",
              "        google.colab.kernel.accessAllowed ? 'block' : 'none';\n",
              "\n",
              "      async function convertToInteractive(key) {\n",
              "        const element = document.querySelector('#df-9b629d67-2dff-4a48-85b6-b7e9c1ac3f69');\n",
              "        const dataTable =\n",
              "          await google.colab.kernel.invokeFunction('convertToInteractive',\n",
              "                                                    [key], {});\n",
              "        if (!dataTable) return;\n",
              "\n",
              "        const docLinkHtml = 'Like what you see? Visit the ' +\n",
              "          '<a target=\"_blank\" href=https://colab.research.google.com/notebooks/data_table.ipynb>data table notebook</a>'\n",
              "          + ' to learn more about interactive tables.';\n",
              "        element.innerHTML = '';\n",
              "        dataTable['output_type'] = 'display_data';\n",
              "        await google.colab.output.renderOutput(dataTable, element);\n",
              "        const docLink = document.createElement('div');\n",
              "        docLink.innerHTML = docLinkHtml;\n",
              "        element.appendChild(docLink);\n",
              "      }\n",
              "    </script>\n",
              "  </div>\n",
              "\n",
              "\n",
              "<div id=\"df-6f515d27-6c25-4b2f-93a8-bf015cb5e50b\">\n",
              "  <button class=\"colab-df-quickchart\" onclick=\"quickchart('df-6f515d27-6c25-4b2f-93a8-bf015cb5e50b')\"\n",
              "            title=\"Suggest charts.\"\n",
              "            style=\"display:none;\">\n",
              "\n",
              "<svg xmlns=\"http://www.w3.org/2000/svg\" height=\"24px\"viewBox=\"0 0 24 24\"\n",
              "     width=\"24px\">\n",
              "    <g>\n",
              "        <path d=\"M19 3H5c-1.1 0-2 .9-2 2v14c0 1.1.9 2 2 2h14c1.1 0 2-.9 2-2V5c0-1.1-.9-2-2-2zM9 17H7v-7h2v7zm4 0h-2V7h2v10zm4 0h-2v-4h2v4z\"/>\n",
              "    </g>\n",
              "</svg>\n",
              "  </button>\n",
              "\n",
              "<style>\n",
              "  .colab-df-quickchart {\n",
              "      --bg-color: #E8F0FE;\n",
              "      --fill-color: #1967D2;\n",
              "      --hover-bg-color: #E2EBFA;\n",
              "      --hover-fill-color: #174EA6;\n",
              "      --disabled-fill-color: #AAA;\n",
              "      --disabled-bg-color: #DDD;\n",
              "  }\n",
              "\n",
              "  [theme=dark] .colab-df-quickchart {\n",
              "      --bg-color: #3B4455;\n",
              "      --fill-color: #D2E3FC;\n",
              "      --hover-bg-color: #434B5C;\n",
              "      --hover-fill-color: #FFFFFF;\n",
              "      --disabled-bg-color: #3B4455;\n",
              "      --disabled-fill-color: #666;\n",
              "  }\n",
              "\n",
              "  .colab-df-quickchart {\n",
              "    background-color: var(--bg-color);\n",
              "    border: none;\n",
              "    border-radius: 50%;\n",
              "    cursor: pointer;\n",
              "    display: none;\n",
              "    fill: var(--fill-color);\n",
              "    height: 32px;\n",
              "    padding: 0;\n",
              "    width: 32px;\n",
              "  }\n",
              "\n",
              "  .colab-df-quickchart:hover {\n",
              "    background-color: var(--hover-bg-color);\n",
              "    box-shadow: 0 1px 2px rgba(60, 64, 67, 0.3), 0 1px 3px 1px rgba(60, 64, 67, 0.15);\n",
              "    fill: var(--button-hover-fill-color);\n",
              "  }\n",
              "\n",
              "  .colab-df-quickchart-complete:disabled,\n",
              "  .colab-df-quickchart-complete:disabled:hover {\n",
              "    background-color: var(--disabled-bg-color);\n",
              "    fill: var(--disabled-fill-color);\n",
              "    box-shadow: none;\n",
              "  }\n",
              "\n",
              "  .colab-df-spinner {\n",
              "    border: 2px solid var(--fill-color);\n",
              "    border-color: transparent;\n",
              "    border-bottom-color: var(--fill-color);\n",
              "    animation:\n",
              "      spin 1s steps(1) infinite;\n",
              "  }\n",
              "\n",
              "  @keyframes spin {\n",
              "    0% {\n",
              "      border-color: transparent;\n",
              "      border-bottom-color: var(--fill-color);\n",
              "      border-left-color: var(--fill-color);\n",
              "    }\n",
              "    20% {\n",
              "      border-color: transparent;\n",
              "      border-left-color: var(--fill-color);\n",
              "      border-top-color: var(--fill-color);\n",
              "    }\n",
              "    30% {\n",
              "      border-color: transparent;\n",
              "      border-left-color: var(--fill-color);\n",
              "      border-top-color: var(--fill-color);\n",
              "      border-right-color: var(--fill-color);\n",
              "    }\n",
              "    40% {\n",
              "      border-color: transparent;\n",
              "      border-right-color: var(--fill-color);\n",
              "      border-top-color: var(--fill-color);\n",
              "    }\n",
              "    60% {\n",
              "      border-color: transparent;\n",
              "      border-right-color: var(--fill-color);\n",
              "    }\n",
              "    80% {\n",
              "      border-color: transparent;\n",
              "      border-right-color: var(--fill-color);\n",
              "      border-bottom-color: var(--fill-color);\n",
              "    }\n",
              "    90% {\n",
              "      border-color: transparent;\n",
              "      border-bottom-color: var(--fill-color);\n",
              "    }\n",
              "  }\n",
              "</style>\n",
              "\n",
              "  <script>\n",
              "    async function quickchart(key) {\n",
              "      const quickchartButtonEl =\n",
              "        document.querySelector('#' + key + ' button');\n",
              "      quickchartButtonEl.disabled = true;  // To prevent multiple clicks.\n",
              "      quickchartButtonEl.classList.add('colab-df-spinner');\n",
              "      try {\n",
              "        const charts = await google.colab.kernel.invokeFunction(\n",
              "            'suggestCharts', [key], {});\n",
              "      } catch (error) {\n",
              "        console.error('Error during call to suggestCharts:', error);\n",
              "      }\n",
              "      quickchartButtonEl.classList.remove('colab-df-spinner');\n",
              "      quickchartButtonEl.classList.add('colab-df-quickchart-complete');\n",
              "    }\n",
              "    (() => {\n",
              "      let quickchartButtonEl =\n",
              "        document.querySelector('#df-6f515d27-6c25-4b2f-93a8-bf015cb5e50b button');\n",
              "      quickchartButtonEl.style.display =\n",
              "        google.colab.kernel.accessAllowed ? 'block' : 'none';\n",
              "    })();\n",
              "  </script>\n",
              "</div>\n",
              "    </div>\n",
              "  </div>\n"
            ]
          },
          "metadata": {},
          "execution_count": 67
        }
      ]
    },
    {
      "cell_type": "code",
      "source": [
        "# Verificando nulls do dataset\n",
        "\n",
        "dataset.isnull().sum()"
      ],
      "metadata": {
        "colab": {
          "base_uri": "https://localhost:8080/"
        },
        "id": "nm_AVY2ZQI7u",
        "outputId": "4d1c3e38-1a71-416f-da4c-956c09aa9d7d"
      },
      "execution_count": 68,
      "outputs": [
        {
          "output_type": "execute_result",
          "data": {
            "text/plain": [
              "Data       0\n",
              "Cliente    0\n",
              "Valor      0\n",
              "Rubrica    0\n",
              "Área       0\n",
              "dtype: int64"
            ]
          },
          "metadata": {},
          "execution_count": 68
        }
      ]
    },
    {
      "cell_type": "code",
      "source": [
        "# Nova verificação do dataset para a visualização de Missings\n",
        "\n",
        "dataset.replace(0, np.nan, inplace=True)\n",
        "\n",
        "ms.matrix(dataset);"
      ],
      "metadata": {
        "colab": {
          "base_uri": "https://localhost:8080/",
          "height": 699
        },
        "id": "MX5HmRVUQPld",
        "outputId": "73de5ca0-d29a-4c5e-f259-e5b77cc89c7d"
      },
      "execution_count": 69,
      "outputs": [
        {
          "output_type": "display_data",
          "data": {
            "text/plain": [
              "<Figure size 2500x1000 with 2 Axes>"
            ],
            "image/png": "[encoded data removed]"
          },
          "metadata": {}
        }
      ]
    },
    {
      "cell_type": "markdown",
      "source": [
        "*Diante das informações obtidas através das primeiras visualizações chegamos a conclusão que a qualidade do dataset é muito boa, pois não contém missings, tem a mesma quantidade de linhas para todos os atributos e a classificação dos tipos de dados está correta.*"
      ],
      "metadata": {
        "id": "Iyi2imdqRo-9"
      }
    },
    {
      "cell_type": "markdown",
      "source": [
        "6. **Solução do problema.**"
      ],
      "metadata": {
        "id": "avUvUFiGegve"
      }
    },
    {
      "cell_type": "markdown",
      "source": [
        "*As demonstrações visuais a seguir foram realizadas através do Power BI.*"
      ],
      "metadata": {
        "id": "W-tEWqK7esON"
      }
    },
    {
      "cell_type": "markdown",
      "source": [
        "(a) Faturamento no período."
      ],
      "metadata": {
        "id": "jRd5MkJxWXps"
      }
    },
    {
      "cell_type": "markdown",
      "source": [
        "![image.png](data:image/png;base64,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)"
      ],
      "metadata": {
        "id": "1XkEQpBzcxbB"
      }
    },
    {
      "cell_type": "markdown",
      "source": [],
      "metadata": {
        "id": "_4PCGWqqeXgK"
      }
    }
  ]
}